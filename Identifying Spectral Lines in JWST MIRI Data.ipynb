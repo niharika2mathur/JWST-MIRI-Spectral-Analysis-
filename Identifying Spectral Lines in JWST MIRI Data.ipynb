{
 "cells": [
  {
   "cell_type": "code",
   "execution_count": null,
   "id": "9144e12a",
   "metadata": {},
   "outputs": [],
   "source": [
    "# PROJECT 3: Identifying Spectral Lines in JWST MIRI Data\n",
    "import numpy as np\n",
    "import matplotlib.pyplot as plt\n",
    "from scipy.signal import find_peaks\n",
    "from astropy.constants import c\n",
    "\n",
    "# STEP 1: Insert your own observed spectrum data\n",
    "# Replace these with your actual wavelength and flux values\n",
    "wavelength = np.array([5.1, 5.2, 5.3, 6.2, 6.4, 7.0, 7.3, 7.6, 8.0, 8.4])  # in microns\n",
    "flux = np.array([0.2, 0.3, 0.4, 1.2, 0.8, 0.5, 1.0, 0.6, 0.3, 0.2])        # in Jy\n",
    "\n",
    "# STEP 2: Plot the observed spectrum\n",
    "plt.figure(figsize=(8, 6))\n",
    "plt.plot(wavelength, flux, color='blue', lw=2)\n",
    "plt.xlabel(\"Wavelength (μm)\")\n",
    "plt.ylabel(\"Flux (Jy)\")\n",
    "plt.title(\"Observed Spectrum from JWST MIRI\")\n",
    "plt.grid(True)\n",
    "plt.tight_layout()\n",
    "plt.show()\n",
    "\n",
    "# STEP 3: Find peaks in the spectrum\n",
    "peaks, _ = find_peaks(flux, height=0.7)  # adjust height threshold as needed\n",
    "observed_lines = wavelength[peaks]\n",
    "\n",
    "print(\"📍 Observed Line Peaks (μm):\", observed_lines)\n",
    "\n",
    "# STEP 4: Known rest-frame emission lines (microns)\n",
    "rest_lines = {\n",
    "    \"Hα\": 0.6563,\n",
    "    \"[O III]\": 0.5007,\n",
    "    \"[N II]\": 0.6584,\n",
    "    \"[S III]\": 0.9069,\n",
    "    \"Paα\": 1.875,\n",
    "    \"[Ne II]\": 12.81\n",
    "}\n",
    "\n",
    "# STEP 5: Estimate redshift using known rest line and observed line\n",
    "# (z = (λ_obs - λ_rest) / λ_rest)\n",
    "print(\"\\n🔍 Estimated Redshifts:\")\n",
    "for line_name, λ_rest in rest_lines.items():\n",
    "    for λ_obs in observed_lines:\n",
    "        z = (λ_obs - λ_rest) / λ_rest\n",
    "        if 0 < z < 15:\n",
    "            print(f\"From {line_name}: z ≈ {z:.3f} (Obs: {λ_obs:.2f} μm)\")"
   ]
  }
 ],
 "metadata": {
  "language_info": {
   "name": "python"
  }
 },
 "nbformat": 4,
 "nbformat_minor": 5
}
